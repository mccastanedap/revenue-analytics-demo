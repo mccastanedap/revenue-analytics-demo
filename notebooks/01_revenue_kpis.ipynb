{
 "cells": [
  {
   "cell_type": "markdown",
   "id": "5d22968a",
   "metadata": {},
   "source": [
    "\n",
    "# Revenue Analytics Demo — KPI Notebook\n",
    "\n",
    "This notebook computes **SaaS revenue KPIs** from synthetic data:\n",
    "- **MRR / ARR**\n",
    "- **Churn Rate**\n",
    "- **Net Revenue Retention (NRR)**\n",
    "- Breakdowns by **segment** and **region**\n",
    "\n",
    "It uses the `customers.csv` and `revenue.csv` files generated earlier and mirrors a dbt-style fact model inside the notebook for convenience.\n",
    "\n",
    "> Tip: Commit this notebook to your GitHub repo alongside the CSVs and the `models/fct_revenue.sql` file.\n"
   ]
  },
  {
   "cell_type": "code",
   "execution_count": null,
   "id": "b99f9915",
   "metadata": {},
   "outputs": [],
   "source": [
    "\n",
    "import os\n",
    "from pathlib import Path\n",
    "import numpy as np\n",
    "import pandas as pd\n",
    "import matplotlib.pyplot as plt\n",
    "\n",
    "# Never set custom styles or colors here to keep things portable\n",
    "pd.set_option('display.max_rows', 20)\n",
    "pd.set_option('display.max_columns', 50)\n",
    "\n",
    "DATA_DIR = Path('.')  # adjust if needed\n",
    "CUSTOMERS_PATH = Path('/mnt/data/customers.csv')  # replace with 'data/customers.csv' in your repo\n",
    "REVENUE_PATH = Path('/mnt/data/revenue.csv')      # replace with 'data/revenue.csv' in your repo\n",
    "OUTPUTS_DIR = Path('/mnt/data/outputs')\n",
    "OUTPUTS_DIR.mkdir(parents=True, exist_ok=True)\n"
   ]
  },
  {
   "cell_type": "markdown",
   "id": "abe8aab5",
   "metadata": {},
   "source": [
    "## 1. Load Datasets"
   ]
  },
  {
   "cell_type": "code",
   "execution_count": null,
   "id": "09954cd2",
   "metadata": {},
   "outputs": [],
   "source": [
    "\n",
    "customers = pd.read_csv(CUSTOMERS_PATH, parse_dates=['start_date','churn_date'])\n",
    "revenue = pd.read_csv(REVENUE_PATH, parse_dates=['month'])\n",
    "\n",
    "print('Customers shape:', customers.shape)\n",
    "display(customers.head())\n",
    "print('Revenue shape:', revenue.shape)\n",
    "display(revenue.head())\n"
   ]
  },
  {
   "cell_type": "markdown",
   "id": "377b424b",
   "metadata": {},
   "source": [
    "## 2. Build Month-Grained Fact Table (dbt-style)"
   ]
  },
  {
   "cell_type": "code",
   "execution_count": null,
   "id": "9602f8d1",
   "metadata": {},
   "outputs": [],
   "source": [
    "\n",
    "# Join\n",
    "fct = (revenue\n",
    "       .merge(customers, on='customer_id', how='left', suffixes=('','_cust'))\n",
    "       .copy())\n",
    "\n",
    "# Flags & fields\n",
    "fct['is_churn_month'] = ((fct['churned'] == 1) & (fct['churn_date'].dt.to_period('M') == fct['month'].dt.to_period('M'))).astype(int)\n",
    "fct['is_active'] = ((fct['month'] >= fct['start_date']) & ((fct['churn_date'].isna()) | (fct['month'] <= fct['churn_date']))).astype(int)\n",
    "\n",
    "# prev_mrr by customer\n",
    "fct = fct.sort_values(['customer_id','month'])\n",
    "fct['prev_mrr'] = fct.groupby('customer_id')['mrr'].shift(1)\n",
    "fct['mrr_delta'] = fct['mrr'] - fct['prev_mrr']\n",
    "\n",
    "def classify(row):\n",
    "    if row['is_churn_month'] == 1:\n",
    "        return 'churn'\n",
    "    if pd.notna(row['mrr_delta']):\n",
    "        if row['mrr_delta'] > 0:\n",
    "            return 'expansion'\n",
    "        if row['mrr_delta'] < 0:\n",
    "            return 'contraction'\n",
    "    return 'flat'\n",
    "\n",
    "fct['revenue_change_type'] = fct.apply(classify, axis=1)\n",
    "fct['arr'] = fct['mrr'] * 12.0\n",
    "\n",
    "display(fct.head(10))\n"
   ]
  },
  {
   "cell_type": "markdown",
   "id": "4306ab37",
   "metadata": {},
   "source": [
    "## 3. KPI Calculations"
   ]
  },
  {
   "cell_type": "code",
   "execution_count": null,
   "id": "9e38300a",
   "metadata": {},
   "outputs": [],
   "source": [
    "\n",
    "# Helper: month order\n",
    "def month_order(df):\n",
    "    return df.sort_values('month')['month'].unique()\n",
    "\n",
    "# MRR by month (active only)\n",
    "mrr_monthly = (fct[fct['is_active'] == 1]\n",
    "               .groupby('month', as_index=False)\n",
    "               .agg(mrr=('mrr','sum')))\n",
    "\n",
    "# ARR by month\n",
    "arr_monthly = (fct.groupby('month', as_index=False)\n",
    "               .agg(arr=('arr','sum')))\n",
    "\n",
    "# Churn MRR per month (sum of mrr where churn happened that month)\n",
    "churn_mrr_monthly = (fct[fct['revenue_change_type'] == 'churn']\n",
    "                     .groupby('month', as_index=False)\n",
    "                     .agg(churn_mrr=('mrr','sum')))\n",
    "\n",
    "# For churn rate, divide churn MRR by prior month's active MRR\n",
    "mrr_prev = mrr_monthly.copy()\n",
    "mrr_prev['mrr_prev'] = mrr_prev['mrr'].shift(1)\n",
    "churn_base = (mrr_prev[['month','mrr_prev']]\n",
    "              .merge(churn_mrr_monthly, on='month', how='left')\n",
    "              .fillna({'churn_mrr':0.0}))\n",
    "churn_base['churn_rate'] = np.where(churn_base['mrr_prev']>0, churn_base['churn_mrr']/churn_base['mrr_prev'], np.nan)\n",
    "churn_rates = churn_base[['month','churn_rate']]\n",
    "\n",
    "# Net Revenue Retention (NRR): sum(current MRR for existing customers) / sum(prev MRR for those same customers)\n",
    "existing = fct[fct['prev_mrr'].notna()].copy()\n",
    "nrr_monthly = (existing.groupby('month', as_index=False)\n",
    "               .agg(current=('mrr','sum'), prev=('prev_mrr','sum')))\n",
    "nrr_monthly['NRR'] = np.where(nrr_monthly['prev']>0, nrr_monthly['current']/nrr_monthly['prev'], np.nan)\n",
    "\n",
    "# Segment & region breakdowns (ARR example)\n",
    "arr_by_segment = (fct.groupby(['month','segment'], as_index=False)\n",
    "                  .agg(arr=('arr','sum')))\n",
    "arr_by_region = (fct.groupby(['month','region'], as_index=False)\n",
    "                 .agg(arr=('arr','sum')))\n",
    "\n",
    "display(mrr_monthly.head())\n",
    "display(arr_monthly.head())\n",
    "display(churn_rates.head())\n",
    "display(nrr_monthly.head())\n"
   ]
  },
  {
   "cell_type": "markdown",
   "id": "c43376c1",
   "metadata": {},
   "source": [
    "## 4. Quick Visuals (matplotlib)"
   ]
  },
  {
   "cell_type": "code",
   "execution_count": null,
   "id": "67c0ddfc",
   "metadata": {},
   "outputs": [],
   "source": [
    "\n",
    "# 4.1 MRR trend\n",
    "plt.figure()\n",
    "plt.plot(mrr_monthly['month'], mrr_monthly['mrr'])\n",
    "plt.title('Monthly Recurring Revenue (MRR)')\n",
    "plt.xlabel('Month')\n",
    "plt.ylabel('MRR (USD)')\n",
    "plt.xticks(rotation=45)\n",
    "plt.tight_layout()\n",
    "plt.savefig(OUTPUTS_DIR / 'mrr_trend.png')\n",
    "plt.show()\n",
    "\n",
    "# 4.2 ARR trend\n",
    "plt.figure()\n",
    "plt.plot(arr_monthly['month'], arr_monthly['arr'])\n",
    "plt.title('Annual Recurring Revenue (ARR)')\n",
    "plt.xlabel('Month')\n",
    "plt.ylabel('ARR (USD)')\n",
    "plt.xticks(rotation=45)\n",
    "plt.tight_layout()\n",
    "plt.savefig(OUTPUTS_DIR / 'arr_trend.png')\n",
    "plt.show()\n",
    "\n",
    "# 4.3 Churn Rate trend\n",
    "plt.figure()\n",
    "plt.plot(churn_rates['month'], churn_rates['churn_rate'])\n",
    "plt.title('Churn Rate (MRR churn / prior active MRR)')\n",
    "plt.xlabel('Month')\n",
    "plt.ylabel('Churn Rate')\n",
    "plt.xticks(rotation=45)\n",
    "plt.tight_layout()\n",
    "plt.savefig(OUTPUTS_DIR / 'churn_rate_trend.png')\n",
    "plt.show()\n",
    "\n",
    "# 4.4 NRR trend\n",
    "plt.figure()\n",
    "plt.plot(nrr_monthly['month'], nrr_monthly['NRR'])\n",
    "plt.title('Net Revenue Retention (NRR)')\n",
    "plt.xlabel('Month')\n",
    "plt.ylabel('NRR')\n",
    "plt.xticks(rotation=45)\n",
    "plt.tight_layout()\n",
    "plt.savefig(OUTPUTS_DIR / 'nrr_trend.png')\n",
    "plt.show()\n"
   ]
  },
  {
   "cell_type": "markdown",
   "id": "15577cac",
   "metadata": {},
   "source": [
    "## 5. Export KPI Tables & Figures"
   ]
  },
  {
   "cell_type": "code",
   "execution_count": null,
   "id": "b74946ce",
   "metadata": {},
   "outputs": [],
   "source": [
    "\n",
    "mrr_monthly.to_csv(OUTPUTS_DIR / 'mrr_monthly.csv', index=False)\n",
    "arr_monthly.to_csv(OUTPUTS_DIR / 'arr_monthly.csv', index=False)\n",
    "churn_rates.to_csv(OUTPUTS_DIR / 'churn_rates.csv', index=False)\n",
    "nrr_monthly.to_csv(OUTPUTS_DIR / 'nrr_monthly.csv', index=False)\n",
    "\n",
    "print('Saved CSVs to:', OUTPUTS_DIR)\n",
    "print('Saved figures: mrr_trend.png, arr_trend.png, churn_rate_trend.png, nrr_trend.png')\n"
   ]
  },
  {
   "cell_type": "markdown",
   "id": "4cd92096",
   "metadata": {},
   "source": [
    "\n",
    "## 6. Next Steps\n",
    "\n",
    "- Add **forecasting** (Prophet or ARIMA) using `mrr_monthly` as input.\n",
    "- Compute **segment-level NRR** and **logo churn vs. revenue churn**.\n",
    "- Publish selected CSVs to a `data/` folder in your repo and wire into **Power BI**.\n",
    "- Commit the `outputs/` charts as static images for your README.\n"
   ]
  }
 ],
 "metadata": {},
 "nbformat": 4,
 "nbformat_minor": 5
}
